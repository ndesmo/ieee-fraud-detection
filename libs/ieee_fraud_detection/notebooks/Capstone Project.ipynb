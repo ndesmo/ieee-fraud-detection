{
 "cells": [
  {
   "cell_type": "markdown",
   "metadata": {},
   "source": [
    "# Capstone Project - IEEE Fraud Detection\n",
    "\n",
    "In my final Capstone project for the Udacity Data Scientist Nanodegree I will be analysing a dataset from [Kaggle](www.kaggle.com). I have decided to use a dataset from this website as it hosts a wide variety of datasets that are freely available. These datasets often are accompanied by competitions, where entrants can try their hand at tackling a data science problem on the dataset and get the best score, however this is evaluated.\n",
    "\n",
    "## Project overview\n",
    "\n",
    "My day job is as an analyst at a cyber security company. On a daily basis I deal with large transactional datasets and attempt to find the fraudulent transactions. With this background in mind, I decided that the [IEEE-CIS Fraud Detection](https://www.kaggle.com/c/ieee-fraud-detection) data set and competition would be a great candidate for me to analyse and attempt to build a good model for.\n",
    "\n",
    "We are given a dataset of e-commerce transactions, i.e. online payments. The response variable is `isFraud`, which is a binary indicating whether the given transaction was found to be fraudulent. We have many columns, some categorical, some numerical, some boolean, indicating many different aspects of the transaction. As well, we are able to join to identifying information on the customer themselves. The datasets are listed below:\n",
    "\n",
    "* *train_transaction.csv*: The section of the transactional dataset allocated for training\n",
    "* *train_identity.csv*: The consumer identity data that applies to the train transaction dataset\n",
    "* *test_transaction.csv*: The section of the transactional dataset allocated for testing and evaluation\n",
    "* *test_identity.csv*: The consumer identity data that applies to the test transaction dataset\n",
    "\n",
    "The aim of this competition, and by extension one of the aims of this project, is to produce a model that, when applied to the test dataset, performs very highly. The model will be evaluated using the Area Under the Curve (AUC) method, so we will use this approach when practicing with our training data.\n",
    "\n",
    "This project will also encompass the preliminary data exploration and analysis of this dataset, as well as the approaches and algorithms used when applying the model. Hyper-parameter tuning will be explored. Finally, we will \"deploy\" the model test results onto Kaggle and discuss the score, results and potential improvements.\n",
    "\n",
    "## Problem statement\n",
    "\n",
    "The problem we are trying to solve is a binary classification problem on the `isFraud` variable. We are able to use the training dataset to evaluate our method using the AUC method. We will run the model on the test data and Kaggle will evaluate the model performance using the same method.\n",
    "\n",
    "In other words, we are attempting to predict fraudulent transactions.\n",
    "\n",
    "## Metrics\n",
    "\n",
    "Firstly, every binary classification model has a value that is either \"positive\" or \"negative\". The positive value in our problem would be a value of 1 for `isFraud`. The negative would be a value of 0 for `isFraud`.\n",
    "\n",
    "We can then evaluate whether the given value that we predicted by our model for `isFraud` is correct or not.\n",
    "\n",
    "* True positive: predicted fraudulent and is actually fraudulent\n",
    "* True negative: predicted not fraudulent and is not actually fraudulent\n",
    "* False positive: predicted fraudulent and is not actually fraudulent\n",
    "* False negative: predicted not fraudulent and is actually fraudulent\n",
    "\n",
    "Being able to predict fraud relies on minimising false positives and false negatives, or maximising true positives and true negatives.\n",
    "\n",
    "Further to this, we have the notions of:\n",
    "\n",
    "* True Positive Rate (a.k.a. recall): TP / (TP + FN)\n",
    "* False Positive Rate: FP / (FP + TN)\n",
    "\n",
    "An ROC curve plots these two things at different classification thresholds [1]. We will compute the area under this curve in order to evaluate the performance of the model. This will allow us to maximize true positives while minimizing false positives.\n",
    "\n",
    "The Area Under the Curve (AUC) approach will be used to evaluate the model performance."
   ]
  },
  {
   "cell_type": "markdown",
   "metadata": {},
   "source": [
    "## Data Exploration\n",
    "\n",
    "We have the response variable `isFraud` which is a binary value, only present in the training data."
   ]
  },
  {
   "cell_type": "code",
   "execution_count": null,
   "metadata": {},
   "outputs": [],
   "source": [
    "import numpy as np\n",
    "import pandas as pd\n",
    "\n",
    "id = pd.read_csv('../input/train_identity.csv')\n",
    "tr = pd.read_csv('../input/train_transaction.csv')"
   ]
  },
  {
   "cell_type": "code",
   "execution_count": 6,
   "metadata": {},
   "outputs": [
    {
     "data": {
      "text/plain": [
       "<matplotlib.axes._subplots.AxesSubplot at 0x11553ff28>"
      ]
     },
     "execution_count": 6,
     "metadata": {},
     "output_type": "execute_result"
    },
    {
     "data": {
      "image/png": "[encoded data removed]",
      "text/plain": [
       "<Figure size 432x288 with 1 Axes>"
      ]
     },
     "metadata": {
      "needs_background": "light"
     },
     "output_type": "display_data"
    }
   ],
   "source": [
    "tr.isFraud.value_counts().plot.bar()"
   ]
  },
  {
   "cell_type": "markdown",
   "metadata": {},
   "source": [
    "This is a clearly highly imbalanced variable, as only 20,663 transactions are marked fraudulent compared with 596,877 non-fraudulent transactions. The classes should be made to be roughly equal size. This could lead to a poorly performing model if not corrected.\n",
    "\n",
    "There is also a challenge in that the identity data is stored separately from the transactional data. We should look at both of these datasets when tuning and running the model."
   ]
  },
  {
   "cell_type": "markdown",
   "metadata": {},
   "source": [
    "### Categoricals\n",
    "\n",
    "We are told that the following variables are categorical from the transactional dataset:\n",
    "    \n",
    "* `ProductCD`\n",
    "* `card1` - `card6`\n",
    "* `addr1`, `addr2`\n",
    "* `P_emaildomain`\n",
    "* `R_emaildomain`\n",
    "* `M1` - `M9`\n",
    "\n",
    "Also, the identity dataset has the following categorical variables:\n",
    "    \n",
    "* `DeviceType`\n",
    "* `DeviceInfo`\n",
    "* `id_12` - `id_38`\n",
    "\n",
    "Since we need to run the model using numerical values, we should encode the categoricals into numeric ones somehow. Let's look into the `card4` variable for example."
   ]
  },
  {
   "cell_type": "code",
   "execution_count": 10,
   "metadata": {},
   "outputs": [
    {
     "data": {
      "text/plain": [
       "<matplotlib.axes._subplots.AxesSubplot at 0x114b6b128>"
      ]
     },
     "execution_count": 10,
     "metadata": {},
     "output_type": "execute_result"
    },
    {
     "data": {
      "image/png": "[encoded data removed]",
      "text/plain": [
       "<Figure size 432x288 with 1 Axes>"
      ]
     },
     "metadata": {
      "needs_background": "light"
     },
     "output_type": "display_data"
    }
   ],
   "source": [
    "tr.card4.value_counts().plot.bar()"
   ]
  },
  {
   "cell_type": "markdown",
   "metadata": {},
   "source": [
    "This variable appears to describe the operator of the card used. There are 2 main ones: Mastercard and Visa, but it's also interesting to include American Express and Discover.\n",
    "\n",
    "The `DeviceType` column is even simpler."
   ]
  },
  {
   "cell_type": "code",
   "execution_count": 12,
   "metadata": {},
   "outputs": [
    {
     "data": {
      "text/plain": [
       "<matplotlib.axes._subplots.AxesSubplot at 0x110803dd8>"
      ]
     },
     "execution_count": 12,
     "metadata": {},
     "output_type": "execute_result"
    },
    {
     "data": {
      "image/png": "[encoded data removed]",
      "text/plain": [
       "<Figure size 432x288 with 1 Axes>"
      ]
     },
     "metadata": {
      "needs_background": "light"
     },
     "output_type": "display_data"
    }
   ],
   "source": [
    "id.DeviceType.value_counts().plot.bar()"
   ]
  },
  {
   "cell_type": "markdown",
   "metadata": {},
   "source": [
    "This gives the platform type that was used for the transactions, with a pretty even split between desktop and mobile. This will require minimal preprocessing.\n",
    "\n",
    "Some categorical features have a very high cardinality, and may not be so useful to us due to the potential for overfitting."
   ]
  },
  {
   "cell_type": "code",
   "execution_count": 17,
   "metadata": {},
   "outputs": [
    {
     "data": {
      "text/plain": [
       "13553"
      ]
     },
     "execution_count": 17,
     "metadata": {},
     "output_type": "execute_result"
    }
   ],
   "source": [
    "len(tr.card1.unique())"
   ]
  },
  {
   "cell_type": "markdown",
   "metadata": {},
   "source": [
    "The `card1` variable is an example of this. There are 13,553 distinct values. It may not be feasible to encode all of these."
   ]
  },
  {
   "cell_type": "markdown",
   "metadata": {},
   "source": [
    "There are other categorical features that are somewhere in the middle between low and high cardinality. One example would be the `DeviceInfo` feature of the identity dataset."
   ]
  },
  {
   "cell_type": "code",
   "execution_count": 32,
   "metadata": {},
   "outputs": [
    {
     "data": {
      "text/plain": [
       "Windows                  47722\n",
       "iOS Device               19782\n",
       "MacOS                    12573\n",
       "Trident/7.0               7440\n",
       "rv:11.0                   1901\n",
       "rv:57.0                    962\n",
       "SM-J700M Build/MMB29K      549\n",
       "SM-G610M Build/MMB29K      461\n",
       "SM-G531H Build/LMY48B      410\n",
       "rv:59.0                    362\n",
       "Name: DeviceInfo, dtype: int64"
      ]
     },
     "execution_count": 32,
     "metadata": {},
     "output_type": "execute_result"
    }
   ],
   "source": [
    "id.DeviceInfo.value_counts().head(10)"
   ]
  },
  {
   "cell_type": "markdown",
   "metadata": {},
   "source": [
    "This looks to be the user agent string or some portion of it containing mainly platform information but with some device identifying characteristics as well, e.g. the `Build/MMB29K` portion of the `SM-J700M Build/MMB29K` string.\n",
    "\n",
    "We may need to modify this feature in order to group together some of these values into meaningful groups."
   ]
  },
  {
   "cell_type": "markdown",
   "metadata": {},
   "source": [
    "### Numericals\n",
    "\n",
    "There are many columns that describe numerical values. Let's start with the `TransactionAmt` column, which describes the dollar amount spent in the transaction."
   ]
  },
  {
   "cell_type": "code",
   "execution_count": 19,
   "metadata": {},
   "outputs": [
    {
     "data": {
      "text/plain": [
       "<matplotlib.axes._subplots.AxesSubplot at 0x12e739fd0>"
      ]
     },
     "execution_count": 19,
     "metadata": {},
     "output_type": "execute_result"
    },
    {
     "data": {
      "image/png": "[encoded data removed]",
      "text/plain": [
       "<Figure size 432x288 with 1 Axes>"
      ]
     },
     "metadata": {
      "needs_background": "light"
     },
     "output_type": "display_data"
    }
   ],
   "source": [
    "np.log10(tr.TransactionAmt).plot.hist()"
   ]
  },
  {
   "cell_type": "markdown",
   "metadata": {},
   "source": [
    "It made sense to plot a histogram of the logarithm of the price, since most transactions are between 1 and 1000. The few extreme transactions that are above this are affecting the visualisation when using a linear scale. These transactions are also interesting to include since they are monetary and hence large amounts are significant and carry a great deal of meaning."
   ]
  },
  {
   "cell_type": "code",
   "execution_count": 24,
   "metadata": {},
   "outputs": [
    {
     "data": {
      "text/plain": [
       "1.0    298894\n",
       "2.0     10926\n",
       "3.0      1181\n",
       "4.0       163\n",
       "5.0        36\n",
       "6.0        30\n",
       "0.0        20\n",
       "7.0         2\n",
       "8.0         1\n",
       "Name: V2, dtype: int64"
      ]
     },
     "execution_count": 24,
     "metadata": {},
     "output_type": "execute_result"
    }
   ],
   "source": [
    "tr.V2.value_counts()"
   ]
  },
  {
   "cell_type": "markdown",
   "metadata": {},
   "source": [
    "The `V2` column among others appears to be ordinal, consisting of a discrete numerical whole number value that appears to have some order attached to it. Other `V_` columns display this characteristic. It might make sense to consider these as-is."
   ]
  },
  {
   "cell_type": "code",
   "execution_count": 27,
   "metadata": {},
   "outputs": [
    {
     "data": {
      "text/plain": [
       "<matplotlib.axes._subplots.AxesSubplot at 0x1290a73c8>"
      ]
     },
     "execution_count": 27,
     "metadata": {},
     "output_type": "execute_result"
    },
    {
     "data": {
      "image/png": "[encoded data removed]",
      "text/plain": [
       "<Figure size 432x288 with 1 Axes>"
      ]
     },
     "metadata": {
      "needs_background": "light"
     },
     "output_type": "display_data"
    }
   ],
   "source": [
    "tr.dist1.plot.hist()"
   ]
  },
  {
   "cell_type": "markdown",
   "metadata": {},
   "source": [
    "As with `TransactionAmt` the `dist1` variable appears to have a small number of extreme values, which skews the histogram when plotting linearly. This variable appears to represent some geographical distance, perhaps some distance between IP and vendor. We would like to include extreme values, since we are looking for anomalous behaviour."
   ]
  },
  {
   "cell_type": "markdown",
   "metadata": {},
   "source": [
    "### Time-based\n",
    "\n",
    "We also have the `TransactionDT` column, which although numerical is actually time-based, since it denotes the number of seconds from some reference datetime. We cannot simply deal with variable this as-is, since we want to predict future fraud as well as current. If we know that fraud happened in February 2018, we can't use that knowledge alone to predict fraud in June 2020. We will need to use ways to extract elements of the time information that are potentially repeatable for future time periods."
   ]
  },
  {
   "cell_type": "markdown",
   "metadata": {},
   "source": [
    "### Nulls"
   ]
  },
  {
   "cell_type": "code",
   "execution_count": 29,
   "metadata": {},
   "outputs": [
    {
     "data": {
      "text/plain": [
       "False    309096\n",
       "True     281444\n",
       "Name: M4, dtype: int64"
      ]
     },
     "execution_count": 29,
     "metadata": {},
     "output_type": "execute_result"
    }
   ],
   "source": [
    "tr.M4.isnull().value_counts()"
   ]
  },
  {
   "cell_type": "markdown",
   "metadata": {},
   "source": [
    "We are also seeing many variables with a high number of missing values, such as `M4` shown above. We will need an imputation strategy for these."
   ]
  },
  {
   "cell_type": "markdown",
   "metadata": {},
   "source": [
    "## Methodology\n",
    "\n",
    "### Initial steps\n",
    "\n",
    "The `data/process_data.py` file performs the basic preprocessing steps on the data:\n",
    "\n",
    "1. Read the transaction and identity data from the .csv files.\n",
    "2. Merge the datasets using the `TransactionID` column - we will take a left join on the identity dataset because the `TransactionID` values in the identity dataset are a subset of those found in the transaction dataset.\n",
    "3. Save the data into a local sqlite database.\n",
    "\n",
    "This file is run on the training dataset initially, but when we want to evaluate the results on the test dataset, we will run this on the test too.\n",
    "\n",
    "Running on `train_transaction.csv` and `train_identity.csv`, we produce a file `train_transactions.db`. This will be used by the `models/train_classifier.py` file to perform more preprocessing and train the model, as seen in `load_data`.\n",
    "\n",
    "### Medium cardinality categoricals\n",
    "\n",
    "Let's group together some of the values in `DeviceInfo`. In `train_classifier.py` we have a dict `col_dict` which contains as keys the lower case substrings that we are looking for in `DeviceInfo`. The values are the formatted version of the keys.\n",
    "\n",
    "```python\n",
    "col_dict = {\n",
    "    'win': 'Windows',\n",
    "    'mac': 'Mac',\n",
    "    'samsung': 'Samsung',\n",
    "    'sm-': 'Samsung mobile',\n",
    "    'trident': 'Trident',\n",
    "    'huawei': 'Huawei',\n",
    "    'ios': 'iOS',\n",
    "    'lg': 'LG',\n",
    "    'moto': 'Moto',\n",
    "    'rv': 'rv',\n",
    "    'redmi': 'Redmi',\n",
    "    'htc': 'HTC',\n",
    "    'gt-': 'GT',\n",
    "    'hisense': 'Hisense',\n",
    "    'blade': 'Blade',\n",
    "    'alcatel': 'Alcatel',\n",
    "    'linux': 'Linux',\n",
    "    'nexus': 'Nexus',\n",
    "    'asus': 'Asus'\n",
    "}\n",
    "```\n",
    "\n",
    "We then have the function `regex_replace` which searches using regex for each of the keys within a given `text` string. On matching the relevant `col_dict` value is returned:\n",
    "\n",
    "```python\n",
    "def regex_replace(col_dict, text):\n",
    "    regex = re.compile(\"(%s)\" % \"|\".join(\n",
    "        map(re.escape, col_dict.keys())\n",
    "    ), re.IGNORECASE)\n",
    "    if regex.search(text):\n",
    "        ret = regex.search(text)\n",
    "        return col_dict[ret.group().lower()]\n",
    "    else:\n",
    "        return 'Other'\n",
    "```\n",
    "\n",
    "Note that on a no match we return 'Other'.\n",
    "\n",
    "This is then applied to the dataset in `preprocess_data` with the following line:\n",
    "\n",
    "```python\n",
    "X['DevicePlatform'] = X['DeviceInfo'].apply(lambda v: regex_replace(col_dict, str(v)))\n",
    "```\n",
    "\n",
    "### Date time components\n",
    "\n",
    "It was noted previously that the `TransactionDT` column is not usable in its current state because it is not time independent. We want to extract elements of the time that are repeatable.\n",
    "\n",
    "Examples of such repeatable time elements are things like the hour of the day (0-23), day of the week (0-6) or day of the month (~0-30). Since the `TransactionDT` column is seconds since some unknown reference date, we do not know strictly how to compute this. It does not really matter though.\n",
    "\n",
    "Below is code from `preprocess_data` that firstly extracts assumed absolute time values: minutes, hours, days, weeks, months and years. From this, approximations are given to find the day of week, the day of month and the hour of day metrics. These 3 metrics will be used as features.\n",
    "\n",
    "```python\n",
    "# Encode time based variables\n",
    "X['mins'] = np.floor(X.TransactionDT / 60)\n",
    "X['hours'] = np.floor(X['mins'] / 60)\n",
    "X['days'] = np.floor(X['hours'] / 24)\n",
    "X['weeks'] = np.floor(X['days'] / 7)\n",
    "X['months'] = np.floor(X['days'] / 365 * 12)\n",
    "X['years'] = np.floor(X['days'] / 365)\n",
    "\n",
    "X['dayofweek'] = np.mod(X['days'] - X['weeks'] * 7, 7)\n",
    "X['dayofmonth'] = np.floor(np.mod(X['days'] - np.floor(X['months'] * 365 / 12), 365 / 12))\n",
    "\n",
    "X['hourofday'] = np.mod(X['hours'] - X['days'] * 24, 24)\n",
    "```\n",
    "\n",
    "### Initial imputation\n",
    "\n",
    "There is an issue with `NaN` values appearing in the dataset. In order to perform the resampling (the next step), I have initially filled in the affected columns with a string value `'NaN'` in the `preprocess_data` function. These will later be dealt with on a feature by feature basis during the model Pipeline.\n",
    "\n",
    "### Resampling\n",
    "\n",
    "The next issue we will tackle is the imbalanced nature of the response variable `isFraud`. As previously discussed, we have just 3% of the records being flagged as fraudulent. To combat this, we will perform random undersampling of the target data.\n",
    "\n",
    "The code below is `resample_data` contained within `models/train_classifier.py`.\n",
    "\n",
    "```python\n",
    "from imblearn.under_sampling import RandomUnderSampler\n",
    "\n",
    "def resample_data(X, y, cols=None):\n",
    "    \"\"\"\n",
    "    Preprocess and resample the data to balance out the classes\n",
    "    :param X: Features dataset\n",
    "    :param y: Response dataset\n",
    "    :return: Resampled X and y\n",
    "    \"\"\"\n",
    "    \n",
    "    if cols is None:\n",
    "        cols = X.columns\n",
    "\n",
    "    rus = RandomUnderSampler()\n",
    "    X_rs, y_rs = rus.fit_sample(X[cols], y)\n",
    "\n",
    "    return X_rs, y_rs\n",
    "```\n",
    "\n",
    "When run on the features dataset `X` and the response variable `y`, with optionally provided columns to resample over from X, the random undersampling will be performed, returning `X_rs` and `y_rs` which have classes balanced in `y` approximately equally.\n",
    "\n",
    "Random undersampling randomly reduces the sizes of the larger classes until the classes have the same size as the smallest class.\n",
    "\n",
    "### Wrapper for importing data\n",
    "\n",
    "I have built a function `import_data` that takes care of applying all the preprocessing steps to the intial database file (already run through `process_data.py`. It applies the above transformations and then saves the output dataset locally, so that the preprocessing does not have to be performed again. This is useful to save time on rerunning and iterating the model on the training data, and for applying the same preprocessing steps to the test data.\n",
    "\n",
    "### One hot encoding categoricals\n",
    "\n",
    "We need to convert the categorical variables into a numerical form. One very simple way to do this is to one-hot encode them, i.e. create a column for each class with 1 when that value is set and 0 otherwise.\n",
    "\n",
    "I have applied this to all considered categorical variables, through use of sklearn's `OneHotEncoder` function within my `build_model` function as follows:\n",
    "\n",
    "```python\n",
    "from sklearn.preprocessing import OneHotEncoder, FunctionTransformer\n",
    "from sklearn.pipeline import Pipeline\n",
    "\n",
    "from ieee_fraud_detection.models.selection_functions import *\n",
    "\n",
    "onehot = ('onehot_encoder', OneHotEncoder(categories='auto', sparse=False, handle_unknown='ignore'))\n",
    "\n",
    "## CATEGORICALS\n",
    "pipe_ProductCD = Pipeline([\n",
    "    ('column_selection', FunctionTransformer(col_ProductCD, validate=False)),\n",
    "    onehot\n",
    "])\n",
    "pipe_card4 = Pipeline([\n",
    "    ('column_selection', FunctionTransformer(col_card4, validate=False)),\n",
    "    onehot\n",
    "])\n",
    "...\n",
    "pipe_dayofmonth = Pipeline([\n",
    "    ('column_selection', FunctionTransformer(col_dayofmonth, validate=False)),\n",
    "    onehot\n",
    "])\n",
    "```\n",
    "\n",
    "From experimentation it seemed as though applying this to all categoricals considered was giving reasonable results, so other approaches were not considered.\n",
    "\n",
    "\n",
    "### Pipeline-ing\n",
    "\n",
    "At this point it's good to note that I am containing the model within a sklearn `Pipeline`. This makes it simple to save and re-use the model later once trained. It also clarifies the process used.\n",
    "\n",
    "Note, I am making a sub-`Pipeline` for every feature considered, which are then combined into a larger `Pipeline` using the `FeatureUnion` function. \n",
    "\n",
    "The final step is to run the model through the classifier, which in the code is given as `('clf', RandomForestClassifier())`. There is a much deeper discussion about this later on.\n",
    "\n",
    "Note that I have created column selection helper functions in `ieee_fraud_detection.models.selection_functions`.\n",
    "\n",
    "### Log-scale some numericals\n",
    "\n",
    "During the data exploration it was noted that `TransactionAmt` and `dist1` were heavily skewed. These could benefit from a log transformation. \n",
    "\n",
    "In `models/selection_functions.py` we have the functions `col_TransactionAmt` and `col_dist1` which apply a log10 transformation to the variables in order to select them for the `Pipeline`.\n",
    "\n",
    "```python\n",
    "def col_TransactionAmt(X):\n",
    "    return np.log10(X[['TransactionAmt']])\n",
    "\n",
    "def col_dist1(X):\n",
    "    return np.log10(X[['dist1']].astype(float) + 1).fillna('NaN')\n",
    "```\n",
    "\n",
    "Note, we are also filling any missing values temporarily with `'Nan'`.\n",
    "\n",
    "### Imputation for numericals\n",
    "\n",
    "For every numerical feature, we are applying an imputation step to address the nulls. For most of the numerical features with missing values, we impute the most frequent value:\n",
    "\n",
    "```python\n",
    "from sklearn.impute import SimpleImputer\n",
    "\n",
    "imputer_most_frequent = ('imputer', SimpleImputer(missing_values='NaN', strategy='most_frequent'))\n",
    "\n",
    "pipe_V2 = Pipeline([\n",
    "    ('column_selection', FunctionTransformer(col_V2, validate=False)),\n",
    "    imputer_most_frequent\n",
    "])\n",
    "```\n",
    "\n",
    "This works especially well for ordinal features such as `V2`, since these take only discrete whole number values.\n",
    "\n",
    "There are two float columns: `dist1` and `dist2`. We impute a constant value of zero for these columns:\n",
    "\n",
    "```python\n",
    "imputer_constant = ('imputer', SimpleImputer(missing_values='NaN', strategy='constant', fill_value=0))\n",
    "\n",
    "pipe_dist1 = Pipeline([\n",
    "    ('column_selection', FunctionTransformer(col_dist1, validate=False)),\n",
    "    imputer_constant\n",
    "])\n",
    "\n",
    "pipe_dist2 = Pipeline([\n",
    "    ('column_selection', FunctionTransformer(col_dist2, validate=False)),\n",
    "    imputer_constant\n",
    "])\n",
    "```\n",
    "\n",
    "### Null boolean columns\n",
    "\n",
    "Finally, we create boolean columns evaluating whether a column is null:\n",
    "\n",
    "```python\n",
    "def col_V1NaN(X):\n",
    "    return X[['V1']] == 'NaN'\n",
    "\n",
    "pipe_V1NaN = Pipeline([\n",
    "    ('column_selection', FunctionTransformer(col_V1NaN, validate=False))\n",
    "])\n",
    "```\n",
    "\n",
    "This is performed for all numerical features that have missing values. We do not need to perform this for the categorical features, since one-hot encoding will already take care of nulls implicitly.\n",
    "\n",
    "\n",
    "### Train-test split\n",
    "\n",
    "In the `main` function, each of the steps are called to run through the training process. After the data is imported, we create a split into test and train using the `train_test_split` function.\n",
    "\n",
    "```python\n",
    "print('Creating train test split from data...')\n",
    "X_train, X_test, y_train, y_test = train_test_split(X, y, test_size=0.2)\n",
    "```\n",
    "\n",
    "Note, this is a further subdivision of the original training dataset into train and test, since we do not have the `isFraud` values for validation in the original test dataset.\n",
    "\n",
    "Early on when validating model results, I found that a `test_size` of 0.2 was producing a good score, so I left it at this value.\n",
    "\n",
    "\n",
    "### Choice of algorithm\n",
    "\n",
    "I initially tested classification using the `GaussianNB` classifier. I found this to be very easy to set up from a coding perspective since there are very few tunable parameters, and the model trains very quickly. It was helpful to have this algorithm there while building out the code for the feature selection as I could rapidly test whether the feature transformation was somewhat helpful to the overall score. This guided me towards my final choice of features.\n",
    "\n",
    "I quickly realised that other algorithms had greater success. I tried out `RandomForestClassifier`, `AdaBoostClassifier` and `ExtraTreesClassifier` with default parameters and found that the random forest classifier was the most successful with the existing set up that I had.\n",
    "\n",
    "I then set about performing hyper-parameter tuning on `RandomForestClassifier`.\n",
    "\n",
    "\n",
    "### Grid search and parameter grid\n",
    "\n",
    "The sklearn `Pipeline` framework provides a nice easy way to perform hyper-parameter tuning. \n",
    "\n",
    "I have utilized the `GridSearchCV` function to perform a grid search on the model parameters, while also performing a 10-fold cross validation. \n",
    "\n",
    "```python\n",
    "from sklearn.model_selection import GridSearchCV\n",
    "\n",
    "pipe = Pipeline([\n",
    "    ...\n",
    "])\n",
    "\n",
    "# Set up a parameter grid\n",
    "pg = [\n",
    "    {\n",
    "        'clf': [RandomForestClassifier()],\n",
    "        'clf__n_estimators': [10],\n",
    "        'clf__criterion': ['entropy'], # ['gini', 'entropy'],\n",
    "        'clf__min_samples_split': [10], # [10,20,50,100],\n",
    "        'clf__min_samples_leaf': [1], # [1,2,5,10],\n",
    "        'clf__min_weight_fraction_leaf': [0], # [0, 0.01, 0.1, 0.5],\n",
    "        'clf__max_features': [None], # ['auto', 'sqrt', 'log2', None],\n",
    "        'clf__bootstrap': [True], # [True, False],\n",
    "        'clf__oob_score': [False], # [False, True],\n",
    "    }\n",
    "]\n",
    "\n",
    "GridSearchCV(\n",
    "    pipe, param_grid=pg, cv=10, scoring='roc_auc'\n",
    ")\n",
    "```\n",
    "\n",
    "The `'roc_auc'` scoring parameter is used to reflect the AUC scoring criterion for this project.\n",
    "\n",
    "When building out the parameter grid, I let it run for a long time with many iterations across all the parameters. The values iterated over are commented out. The optimal values are kept in.\n",
    "\n",
    "### Model evaluator\n",
    "\n",
    "The `evaluate_model` function takes the trained model as well as the test features and response datasets and prints out several methods to evaluate the performance of the model.\n",
    "\n",
    "Firstly, the predicted output is gleaned from the model when applied to the test features:\n",
    "\n",
    "```python\n",
    "# Predict the output of the model on the test data\n",
    "y_pred = model.predict(X_test)\n",
    "```\n",
    "\n",
    "Next, we use the `metrics` library from sklearn to display the following attributes:\n",
    "\n",
    "* Accuracy: (TP + TN) / Total\n",
    "* Precision: TP / (TP + FP)\n",
    "* Recall: TP / (TP + FN)\n",
    "* F1 score: harmonic mean of precision and recall\n",
    "* Confusion matrix\n",
    "\n",
    "```python\n",
    "from sklearn import metrics\n",
    "\n",
    "print('Accuracy: {}\\nPrecision: {}\\nRecall: {}\\n==============\\n'.format(\n",
    "    metrics.accuracy_score(y_test, y_pred),\n",
    "    metrics.precision_score(y_test, y_pred),\n",
    "    metrics.recall_score(y_test, y_pred)\n",
    "))\n",
    "print(metrics.classification_report(y_test, y_pred))\n",
    "print(metrics.confusion_matrix(y_test, y_pred))\n",
    "```\n",
    "\n",
    "We also extract the `best_score_` and `best_params_` attributes of our model, where score is computed as the ROC AUC:\n",
    "\n",
    "```python\n",
    "# Output the GridSearchCV best score and best params\n",
    "print('The best score from GridSearchCV: {}'.format(model.best_score_))\n",
    "print('Best model parameters:')\n",
    "print(model.best_params_)\n",
    "```\n",
    "\n",
    "### Save the model\n",
    "\n",
    "Finally the `save_model` function uses `pickle` to save the model to a local file."
   ]
  },
  {
   "cell_type": "markdown",
   "metadata": {},
   "source": [
    "## References\n",
    "\n",
    "[1] Classification: ROC Curve and AUC | Machine Learning Crash Course https://developers.google.com/machine-learning/crash-course/classification/roc-and-auc"
   ]
  }
 ],
 "metadata": {
  "kernelspec": {
   "display_name": "Python 3",
   "language": "python",
   "name": "python3"
  },
  "language_info": {
   "codemirror_mode": {
    "name": "ipython",
    "version": 3
   },
   "file_extension": ".py",
   "mimetype": "text/x-python",
   "name": "python",
   "nbconvert_exporter": "python",
   "pygments_lexer": "ipython3",
   "version": "3.7.3"
  }
 },
 "nbformat": 4,
 "nbformat_minor": 2
}
